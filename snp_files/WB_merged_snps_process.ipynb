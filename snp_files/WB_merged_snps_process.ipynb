{
 "cells": [
  {
   "cell_type": "markdown",
   "metadata": {},
   "source": [
    "# <span style='background:silver'> <span style='color:Blue'>Whole Blood Pipeline processing snps\n",
    "\n",
    "## <span style='background:silver'> <span style='color:Green'>-- Jordan Hughey (4th year BG PhD Candidate)\n",
    "\n",
    "### <span style='background:silver'> <span style='color:Black'>--Liu Group\n",
    "\n",
    "### <span style='background:silver'> <span style='color:Black'>-- April 16th, 2020"
   ]
  },
  {
   "cell_type": "markdown",
   "metadata": {},
   "source": [
    "---\n",
    "\n",
    "---\n",
    "\n",
    "**<span style='background:silver'> <span style='color:Black'>New ABC pipeline picking contacts based off distribution then adding in activity potion**\n",
    "\n",
    "**<span style='background:silver'> <span style='color:Black'>This notebook is linked to aci cluster. This notebook is documenting the processing of Whole Blood DGN and GTEx merged snps**\n",
    "\n",
    "---"
   ]
  },
  {
   "cell_type": "markdown",
   "metadata": {},
   "source": [
    "<span style='background:silver'> <span style='color:Black'>First break WB snps bed file into single chromosome files"
   ]
  },
  {
   "cell_type": "code",
   "execution_count": 4,
   "metadata": {},
   "outputs": [
    {
     "name": "stdout",
     "output_type": "stream",
     "text": [
      "18085279.torque01.util.production.int.aci.ics.psu.edu\n",
      "18085281.torque01.util.production.int.aci.ics.psu.edu\n",
      "18085282.torque01.util.production.int.aci.ics.psu.edu\n",
      "18085283.torque01.util.production.int.aci.ics.psu.edu\n",
      "18085285.torque01.util.production.int.aci.ics.psu.edu\n",
      "18085287.torque01.util.production.int.aci.ics.psu.edu\n",
      "18085289.torque01.util.production.int.aci.ics.psu.edu\n",
      "18085299.torque01.util.production.int.aci.ics.psu.edu\n",
      "18085300.torque01.util.production.int.aci.ics.psu.edu\n",
      "18085301.torque01.util.production.int.aci.ics.psu.edu\n",
      "18085503.torque01.util.production.int.aci.ics.psu.edu\n",
      "18085504.torque01.util.production.int.aci.ics.psu.edu\n",
      "18085505.torque01.util.production.int.aci.ics.psu.edu\n",
      "18085507.torque01.util.production.int.aci.ics.psu.edu\n",
      "18085508.torque01.util.production.int.aci.ics.psu.edu\n",
      "18085510.torque01.util.production.int.aci.ics.psu.edu\n",
      "18085541.torque01.util.production.int.aci.ics.psu.edu\n",
      "18085713.torque01.util.production.int.aci.ics.psu.edu\n",
      "18085714.torque01.util.production.int.aci.ics.psu.edu\n",
      "18085715.torque01.util.production.int.aci.ics.psu.edu\n",
      "18085717.torque01.util.production.int.aci.ics.psu.edu\n",
      "18085718.torque01.util.production.int.aci.ics.psu.edu\n"
     ]
    },
    {
     "name": "stderr",
     "output_type": "stream",
     "text": [
      "Job options fit within the PI reservation.\n",
      "Job options fit within the PI reservation.\n",
      "Job options fit within the PI reservation.\n",
      "Job options fit within the PI reservation.\n",
      "Job options fit within the PI reservation.\n",
      "Job options fit within the PI reservation.\n",
      "Job options fit within the PI reservation.\n",
      "Job options fit within the PI reservation.\n",
      "Job options fit within the PI reservation.\n",
      "Job options fit within the PI reservation.\n",
      "Job options fit within the PI reservation.\n",
      "Job options fit within the PI reservation.\n",
      "Job options fit within the PI reservation.\n",
      "Job options fit within the PI reservation.\n",
      "Job options fit within the PI reservation.\n",
      "Job options fit within the PI reservation.\n",
      "Job options fit within the PI reservation.\n",
      "Job options fit within the PI reservation.\n",
      "Job options fit within the PI reservation.\n",
      "Job options fit within the PI reservation.\n",
      "Job options fit within the PI reservation.\n",
      "Job options fit within the PI reservation.\n"
     ]
    }
   ],
   "source": [
    "%%bash\n",
    "bash separate_wb_snp_beds_allchrs.sh"
   ]
  },
  {
   "cell_type": "markdown",
   "metadata": {},
   "source": [
    "<span style='background:silver'> <span style='color:Black'>Now used bedtools intersect to see which snps map to exons and promoters\n",
    "\n",
    "<span style='background:silver'> <span style='color:Black'>Then remove these snps from larger file as we only want hi-c data on intergenic or intronic snps"
   ]
  },
  {
   "cell_type": "code",
   "execution_count": 3,
   "metadata": {
    "collapsed": true
   },
   "outputs": [],
   "source": [
    "%%bash\n",
    "bash intersect_wb_snps_exon_pro.sh"
   ]
  },
  {
   "cell_type": "code",
   "execution_count": 4,
   "metadata": {},
   "outputs": [
    {
     "name": "stdout",
     "output_type": "stream",
     "text": [
      "17826825.torque01.util.production.int.aci.ics.psu.edu\n",
      "17826826.torque01.util.production.int.aci.ics.psu.edu\n",
      "17826827.torque01.util.production.int.aci.ics.psu.edu\n",
      "17826833.torque01.util.production.int.aci.ics.psu.edu\n",
      "17826834.torque01.util.production.int.aci.ics.psu.edu\n",
      "17826835.torque01.util.production.int.aci.ics.psu.edu\n",
      "17826837.torque01.util.production.int.aci.ics.psu.edu\n",
      "17826840.torque01.util.production.int.aci.ics.psu.edu\n",
      "17826841.torque01.util.production.int.aci.ics.psu.edu\n",
      "17826843.torque01.util.production.int.aci.ics.psu.edu\n",
      "17826844.torque01.util.production.int.aci.ics.psu.edu\n",
      "17826846.torque01.util.production.int.aci.ics.psu.edu\n",
      "17826847.torque01.util.production.int.aci.ics.psu.edu\n",
      "17826848.torque01.util.production.int.aci.ics.psu.edu\n",
      "17826849.torque01.util.production.int.aci.ics.psu.edu\n",
      "17826850.torque01.util.production.int.aci.ics.psu.edu\n",
      "17826851.torque01.util.production.int.aci.ics.psu.edu\n",
      "17826853.torque01.util.production.int.aci.ics.psu.edu\n",
      "17826854.torque01.util.production.int.aci.ics.psu.edu\n",
      "17826855.torque01.util.production.int.aci.ics.psu.edu\n",
      "17826858.torque01.util.production.int.aci.ics.psu.edu\n",
      "17826859.torque01.util.production.int.aci.ics.psu.edu\n"
     ]
    },
    {
     "name": "stderr",
     "output_type": "stream",
     "text": [
      "Job options fit within the PI reservation.\n",
      "Job options fit within the PI reservation.\n",
      "Job options fit within the PI reservation.\n",
      "Job options fit within the PI reservation.\n",
      "Job options fit within the PI reservation.\n",
      "Job options fit within the PI reservation.\n",
      "Job options fit within the PI reservation.\n",
      "Job options fit within the PI reservation.\n",
      "Job options fit within the PI reservation.\n",
      "Job options fit within the PI reservation.\n",
      "Job options fit within the PI reservation.\n",
      "Job options fit within the PI reservation.\n",
      "Job options fit within the PI reservation.\n",
      "Job options fit within the PI reservation.\n",
      "Job options fit within the PI reservation.\n",
      "Job options fit within the PI reservation.\n",
      "Job options fit within the PI reservation.\n",
      "Job options fit within the PI reservation.\n",
      "Job options fit within the PI reservation.\n",
      "Job options fit within the PI reservation.\n",
      "Job options fit within the PI reservation.\n",
      "Job options fit within the PI reservation.\n"
     ]
    }
   ],
   "source": [
    "%%bash\n",
    "bash remove_pro_exon_snps_allchrs.sh"
   ]
  },
  {
   "cell_type": "markdown",
   "metadata": {},
   "source": [
    "<span style='background:silver'> <span style='color:Black'>Now we are ready to match intergenic snps with Hi-C positions\n",
    "\n",
    "<span style='background:silver'> <span style='color:Black'>Make sure to limit these to distances of < 1mb\n",
    "\n",
    "<span style='background:silver'> <span style='color:Black'>This is done back on main notebook one dir up"
   ]
  },
  {
   "cell_type": "code",
   "execution_count": null,
   "metadata": {
    "collapsed": true
   },
   "outputs": [],
   "source": []
  }
 ],
 "metadata": {
  "kernelspec": {
   "display_name": "Python 2",
   "language": "python",
   "name": "python2"
  },
  "language_info": {
   "codemirror_mode": {
    "name": "ipython",
    "version": 2
   },
   "file_extension": ".py",
   "mimetype": "text/x-python",
   "name": "python",
   "nbconvert_exporter": "python",
   "pygments_lexer": "ipython2",
   "version": "2.7.14"
  }
 },
 "nbformat": 4,
 "nbformat_minor": 2
}
